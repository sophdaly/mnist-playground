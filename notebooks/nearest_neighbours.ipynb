{
 "cells": [
  {
   "cell_type": "markdown",
   "metadata": {},
   "source": [
    "# ZNIST Nearest Neighbour Search "
   ]
  },
  {
   "cell_type": "code",
   "execution_count": 1,
   "metadata": {},
   "outputs": [],
   "source": [
    "# Ammend Python path to find nearest neighbour script and import\n",
    "import sys\n",
    "sys.path.insert(0, '/Users/sdaly/Development/Learning/Tensorflow/znist-playground/src/models/')\n",
    "import nearest_neighbours as nn\n",
    "% matplotlib inline"
   ]
  },
  {
   "cell_type": "code",
   "execution_count": 2,
   "metadata": {},
   "outputs": [],
   "source": [
    "# Load data\n",
    "images, labels, feats = nn.load_data('../models/conv_znist/41a821f')"
   ]
  },
  {
   "cell_type": "code",
   "execution_count": 3,
   "metadata": {},
   "outputs": [],
   "source": [
    "# Names of ZNIST classes\n",
    "names = ['t_shirt_top', 'trouser', 'pullover', 'dress', 'coat',\n",
    "         'sandal', 'shirt', 'sneaker','bag', 'ankle_boots']"
   ]
  },
  {
   "cell_type": "code",
   "execution_count": 4,
   "metadata": {},
   "outputs": [
    {
     "name": "stdout",
     "output_type": "stream",
     "text": [
      "Imaginary user selected image indexed: 32382\n"
     ]
    },
    {
     "data": {
      "image/png": "[encoded data removed]",
      "text/plain": [
       "<matplotlib.figure.Figure at 0x1132dae10>"
      ]
     },
     "metadata": {},
     "output_type": "display_data"
    }
   ],
   "source": [
    "# Choose a random index to represent an image that a user might select\n",
    "from random import randint\n",
    "user_input = randint(0, len(images))\n",
    "print(\"Imaginary user selected image indexed: {}\".format(user_input))\n",
    "nn.plot_image(images[user_input], names[labels[user_input]])"
   ]
  },
  {
   "cell_type": "code",
   "execution_count": 5,
   "metadata": {},
   "outputs": [],
   "source": [
    "# Find the index of for the input image so we can determine the corresponding feats to use for\n",
    "# nearest neighbour search\n",
    "selected_index = nn.find_index(images, images[user_input])"
   ]
  },
  {
   "cell_type": "code",
   "execution_count": 6,
   "metadata": {},
   "outputs": [
    {
     "name": "stdout",
     "output_type": "stream",
     "text": [
      "Nearest neighbour indices: [32382 49839 22816  7107 52507]\n"
     ]
    },
    {
     "data": {
      "image/png": "[encoded data removed]",
      "text/plain": [
       "<matplotlib.figure.Figure at 0x1132dabd0>"
      ]
     },
     "metadata": {},
     "output_type": "display_data"
    }
   ],
   "source": [
    "# Find nearest neighbours of selected article\n",
    "nn.nearest_neighbour_search(selected_index, images, feats, labels, 5)"
   ]
  }
 ],
 "metadata": {
  "kernelspec": {
   "display_name": "Python 2",
   "language": "python",
   "name": "python2"
  },
  "language_info": {
   "codemirror_mode": {
    "name": "ipython",
    "version": 2
   },
   "file_extension": ".py",
   "mimetype": "text/x-python",
   "name": "python",
   "nbconvert_exporter": "python",
   "pygments_lexer": "ipython2",
   "version": "2.7.13"
  }
 },
 "nbformat": 4,
 "nbformat_minor": 2
}
