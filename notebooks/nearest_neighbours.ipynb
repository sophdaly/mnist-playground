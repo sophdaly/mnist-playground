{
 "cells": [
  {
   "cell_type": "markdown",
   "metadata": {},
   "source": [
    "# ZNIST Nearest Neighbour Search "
   ]
  },
  {
   "cell_type": "code",
   "execution_count": 1,
   "metadata": {},
   "outputs": [],
   "source": [
    "# Ammend Python path to find nearest neighbour script and import\n",
    "import sys\n",
    "sys.path.insert(0, '/Users/sdaly/Development/Learning/Tensorflow/znist-playground/src/models/')\n",
    "import nearest_neighbours as nn\n",
    "% matplotlib inline"
   ]
  },
  {
   "cell_type": "code",
   "execution_count": 2,
   "metadata": {},
   "outputs": [],
   "source": [
    "# Load data\n",
    "images, labels, feats = nn.load_data('../models/conv_znist/41a821f')"
   ]
  },
  {
   "cell_type": "code",
   "execution_count": 3,
   "metadata": {},
   "outputs": [],
   "source": [
    "# Names of ZNIST classes\n",
    "names = ['t_shirt_top', 'trouser', 'pullover', 'dress', 'coat',\n",
    "         'sandal', 'shirt', 'sneaker','bag', 'ankle_boots']"
   ]
  },
  {
   "cell_type": "code",
   "execution_count": 4,
   "metadata": {},
   "outputs": [
    {
     "name": "stdout",
     "output_type": "stream",
     "text": [
      "Imaginary user selected image indexed: 1790\n"
     ]
    },
    {
     "data": {
      "image/png": "[encoded data removed]",
      "text/plain": [
       "<matplotlib.figure.Figure at 0x106ae0cd0>"
      ]
     },
     "metadata": {},
     "output_type": "display_data"
    }
   ],
   "source": [
    "# Choose a random index to represent an image that a user might select\n",
    "from random import randint\n",
    "user_input = randint(0, len(images))\n",
    "print(\"Imaginary user selected image indexed: {}\".format(user_input))\n",
    "nn.plot_image(images[user_input], names[labels[user_input]])"
   ]
  },
  {
   "cell_type": "code",
   "execution_count": 5,
   "metadata": {},
   "outputs": [],
   "source": [
    "# Find the index of for the input image so we can determine the corresponding feats to use for\n",
    "# nearest neighbour search\n",
    "selected_index = nn.find_index(images, images[user_input])"
   ]
  },
  {
   "cell_type": "code",
   "execution_count": 8,
   "metadata": {},
   "outputs": [
    {
     "name": "stdout",
     "output_type": "stream",
     "text": [
      "Nearest neighbour indices: [ 1790 57843 32103 36255 33763]\n"
     ]
    }
   ],
   "source": [
    "# Find nearest neighbours of selected article\n",
    "inds = nn.nearest_neighbour_search(selected_index, images, feats, labels, 5)"
   ]
  },
  {
   "cell_type": "code",
   "execution_count": 9,
   "metadata": {},
   "outputs": [
    {
     "data": {
      "image/png": "[encoded data removed]",
      "text/plain": [
       "<matplotlib.figure.Figure at 0x10a08db50>"
      ]
     },
     "metadata": {},
     "output_type": "display_data"
    }
   ],
   "source": [
    "nn.plot_images(images[inds], labels[inds])"
   ]
  },
  {
   "cell_type": "code",
   "execution_count": 10,
   "metadata": {},
   "outputs": [
    {
     "data": {
      "text/html": [
       "<video width=\"144\" height=\"144\" controls autoplay>\n",
       "  <source type=\"video/mp4\" src=\"data:video/mp4;base64,AAAAHGZ0eXBNNFYgAAACAGlzb21pc28yYXZjMQAAAAhmcmVlAAAY221kYXQAAAKtBgX//6ncRem9\n",
       "5tlIt5Ys2CDZI+7veDI2NCAtIGNvcmUgMTQ4IHIyNzk1IGFhYTlhYTggLSBILjI2NC9NUEVHLTQg\n",
       "QVZDIGNvZGVjIC0gQ29weWxlZnQgMjAwMy0yMDE3IC0gaHR0cDovL3d3dy52aWRlb2xhbi5vcmcv\n",
       "eDI2NC5odG1sIC0gb3B0aW9uczogY2FiYWM9MSByZWY9MyBkZWJsb2NrPTE6MDowIGFuYWx5c2U9\n",
       "MHgzOjB4MTEzIG1lPWhleCBzdWJtZT03IHBzeT0xIHBzeV9yZD0xLjAwOjAuMDAgbWl4ZWRfcmVm\n",
       "PTEgbWVfcmFuZ2U9MTYgY2hyb21hX21lPTEgdHJlbGxpcz0xIDh4OGRjdD0xIGNxbT0wIGRlYWR6\n",
       "b25lPTIxLDExIGZhc3RfcHNraXA9MSBjaHJvbWFfcXBfb2Zmc2V0PS0yIHRocmVhZHM9NCBsb29r\n",
       "YWhlYWRfdGhyZWFkcz0xIHNsaWNlZF90aHJlYWRzPTAgbnI9MCBkZWNpbWF0ZT0xIGludGVybGFj\n",
       "ZWQ9MCBibHVyYXlfY29tcGF0PTAgY29uc3RyYWluZWRfaW50cmE9MCBiZnJhbWVzPTMgYl9weXJh\n",
       "bWlkPTIgYl9hZGFwdD0xIGJfYmlhcz0wIGRpcmVjdD0xIHdlaWdodGI9MSBvcGVuX2dvcD0wIHdl\n",
       "aWdodHA9MiBrZXlpbnQ9MjUwIGtleWludF9taW49MiBzY2VuZWN1dD00MCBpbnRyYV9yZWZyZXNo\n",
       "PTAgcmNfbG9va2FoZWFkPTQwIHJjPWNyZiBtYnRyZWU9MSBjcmY9MjMuMCBxY29tcD0wLjYwIHFw\n",
       "bWluPTAgcXBtYXg9NjkgcXBzdGVwPTQgaXBfcmF0aW89MS40MCBhcT0xOjEuMDAAgAAABUxliIQA\n",
       "Ff/+98nvwKbrW1u1v5Ur/h34PmvIxCbHw2/B/1YWvC9ABi8rClHI5UOSkMY5m+AZ80PEBR/RcAV3\n",
       "pMrpfaitNKoYH4faurvByDlVCldUYA0Qz8UyorqTJNgXD0PB0F0pZi0fPBVkyGoQr05LNQsIV3FG\n",
       "snzO1sJ6ISLc0ygR27xFOwigApBrX+m7Ke74Y2yfwBe6ImQztVdtsU8KPHlswz0l0n4+mWSeosS3\n",
       "i7rxarGTYN/sIbAh/is4FRKmhs/IJscxdPUajwreGKl1LFET+gBqqCsY3kXbBe0ZMAkXInTa7tl5\n",
       "Qbn0OzeyLnftt6LGD7LvfOinZ4RmsBN940Kgrr+Nf8mNfsnOi2Lih46icfRBXhU6o4cM4w2v2XCE\n",
       "RbErrmWakXJzZZkg1/imlhXEmciruBKeD23kA0uiHY9wzuuiF8FFT/5FhHOqHS3l1lK7drLjBfEK\n",
       "63lFB6ybpXQeiX78BAtcF1X6evaPD44W1iXdaBJ1QSa01G7eYUUxmkOUMY8RDPSKg+05NMHLNodS\n",
       "dmkX0NWv3XiKJScQKi5xkUlZ6vYYSZVYfwdnqIfazuGtdVn/+ropErqJZwVYo9wbGsEXkSppQlBA\n",
       "lCb94y7iAl2WFhv5gNoxUIWvVJ9+FMx7zwnktPwc+6YBJBcmBn64N+l47koU6kMDw+tTmo6YODjn\n",
       "0NQ/tbpqLK+y3MUaA9cKWwfjNCfCYEu0xue83OrbRn3REbFW86/5wUW6qHuQi+POkBJdB8rngGtt\n",
       "lXQlv29/9Pw/NOcNt3rAXQ8T8eJ+P655CBdglyr6ejtaRLwM5iRyov5oNYfMS/G/amorCNWr6tSi\n",
       "GCLQ6hiVYpc32R9D3xQfmPhP6sw8d7Bk3sn0Ftx8pq3mNpxV8HRPaTKWBviPw3p78roHlQZ5XTl5\n",
       "DYWgj/vJsVGsojNz29XUl4bJPJAxX9uQU16pZJgTeDraaooH51H5IZo4k+cN9OeGiQdoAzSg0TQ/\n",
       "qwM9faNIPxy7O9282TinGUNXYdImvF8L56si4djFbLbiOeF4FD9HWnTDaevNMMBQJcD+ruK41JCO\n",
       "AfFPGhnpyth+rHDvI0qL7zUFB9tamR3SQLjrrQV1YBMjLp8GNl0fTllSx7Cxk/OWhkySAv5Lp33a\n",
       "vyOKynyotM9oXmpn5eqamrjkXBh9A1BtzOhUzf98LrcLcVr1TWDk3+yKqIScuvekJPcfYDXzvNzl\n",
       "oB5w/TsFi3njHD6dPQQQh4hm2iajAnab9mH11xe19AFAcmMVNJDf25paq6Zl8dI79jCzyX7yhH3A\n",
       "1YZgaJYozfZylrrAgwF0uVqAdHQtS28/OXJoqPDTTcFGAZ0a9IXa8T3gnhm6fI8z+ygB2uMK3VFv\n",
       "GhybzY0PPC9TYneA1BtLEAxun/YuU+8Dh1cKvOsCvS2ONXYoRunwxO2fa4nuOm0EHEKtVcyfvy+a\n",
       "x1rAhtBB9mItr4FhYrCJ+0zFIMyCUhO6dk6rw/SucGXMYT20JctfSvUgZg1RQWFphepbwlYcrn0o\n",
       "qZ1G9sHvIQTgHXNnI0kyHqOTg1zL9i58+nXMzId8qJoME2UtDj8PaXk4URVnUmLX1mpH18GRWTN0\n",
       "MQp9lb+UFg0V6wRvC9OMGSoZATQltp13V0rtYg46YpAsiUUt/hVEZGhFXnzs21VNRJyibGHuS0YM\n",
       "h3R+3FzJTuEC6X55ccSEbZJyrYLpA0sXURPzKMBMq3DwKKuVpE6e77b9qLxvl1Ml8bwXardJvsXA\n",
       "J4NyrZnzcpRce5JW0l4E9Pm/Np5rkfYpv+MmUwGsQhdSOs3dEuiJtHkAAAQ0QZojbEFP/taK0rQQ\n",
       "eDgBjqU/ya69FzwH4RGXgpv1kUdt68m7AMKe2DgA8Sjw6WbOEhL5ap08nKdQZSdYhle8FmPRz7ih\n",
       "9grxh52XTP1eZU94336mh9YgNUA8PLiaw2Xmkm7Hg4JXa3Dh0k//hOqoH1oKv7rbiXzvWWgINiOJ\n",
       "bAh4FnXNDCCXAWczmwfVorh5LSQ//t80UrQwRkBapUKTg9r9dIoZutCAlbYzQBU4NcrR+39WAnNS\n",
       "IGrBQxrZgn4KDL1r8pR2p/Mh/v0dS2B3LQ2a4RYbQ3LRzJJb6yxfwKSlWFn7MSf68TNb0uuEWkKV\n",
       "MusHlxi9rAgImJS/5QFqWGUkANkfolWdRYCX0m8EFratK6PXMgCHNy31OdoWTMjQZDOBVPmh7JZW\n",
       "igGccPBts8QBB46IsIADyOuuEq82iWHtLG0Vjk2Aay5wVn9xL95OpM7yaP69yFUf7MUySHKBDXcj\n",
       "eD0Mt/VcKQZUcEy0Mm5NCU+mBF5WCmGdUuuMrrOt/6MgDcaHj4ygl69ODhDS6kq0S8OHUzb6DtJ0\n",
       "L6qVnejh/h+z/wJ+V25vTWk5/iIv++Q75Ml9fMAk1Gf2ZXqoM0ekSPwtRhbwxmRJmfQcZGK7bD54\n",
       "jt+EldrTsCQCNPMkw1LMsXrDLb71uRJMnpe6cAXJigQ4Sr+xM4bTb13GncP9afhH+dgH+SVhHfNX\n",
       "doZTt9K++w/9rPgOU3PhyKVBbayXfmLLfq7wBFjo5xro6iLjsnVCOU0j1VGFij2Xcr4m+AduYGgJ\n",
       "mavUoAYtQeuAm2Xw4lQ/3d1FMBJWn1SSZdmt6F4O/m9ho6sFBVIv75DuftyExGAoWhflO5w0YF0A\n",
       "4MAT+mWQyLBQAUM4qxdwTXcntOLnuxo4DgfLE4ZbBfQdIRrQjjxcgF/vDlnApFAdv6mWeVGCgN28\n",
       "1tkFAUo7EjFKs5P82YoggvRrg0G8AMDvf4LuM0VxKFXE/iICOFV+Y9DcKnzcAurFVj6MYpZiuqPR\n",
       "qYsOsC2rEbXF+WU2SLpqQ+YNnJdaX6lpaLhhFSg19PjhscD5tpz7992GPNTfcSBySahDOoUz/cMG\n",
       "x7i7FulDhZK0Xffv64RIOyHPJ56VFwP/n4kUZ1gE1p0g5LjMcQCUrSP0dplFs8K8J2Km84wer8dr\n",
       "XMEd8sxqAhKgP39GYCX0EQLgal/hqNZgtUxDTh84tRcqWDrkGN/nscmftedvTTT/7legQgh0i1PT\n",
       "LQ3UJPYQUzMS2CD2GKhkHsUNBCybIFmFZseRTSCtB7VFDyxuDI3JzCqFDARFiAUWbQ2w7CWVJXGe\n",
       "EqI4KPDIn+GCY+70OuMgkFLl2QaP8XlCl+boH8NG87NF94mLND2V1HHE2adgk+gnfD+jpR92vL1V\n",
       "lGcwAXSwsJO41/Uh734bXB27wblzg1uDW5ahsZvIgIMnjWuxCIAAAAPzQZ5BeIJ/A4/WLAISpgjA\n",
       "Me/no27QIW1/Len8D+Mq0dhr7sDJtn8kvmYjWrdJ9QUSz7mBFxx1vYCeb4nH8x7pwLBAGFsbrcG8\n",
       "7uNuO9jiMoDWvxWcvLrmGVrQ352lgogLQerRLvK6IlRhZMF4OXdxEhD4KTHVEzEvSFSi7I3JRdvH\n",
       "qUvQoB4UkRCuHEPwIURLr3mJoICJuzu/N1LASphtlEhuQoBiYp3UrUu59Jh7MOmrnu/Gyo4eK/C6\n",
       "FXTUUpld1s3ebzrzUUosh3jNvp8ZenXEfT/cFnbV5yvyL48yBWj5EWFN/o/FCAwu2yISD9f3eMCk\n",
       "tNvBaa+nCOmpP8gYscSSdyZfH+ZECOk0MQMqvX/d5QSdIARYI21zornfn1AA5JW2bFYFi9SiASfI\n",
       "rjYeXyNaceNSPPFCQCUaYoSBUSO2adFchcSyyUhiBzVMZkExXxJP3tFnPRdkOMJtn/f4fAnQ6eCR\n",
       "UG+rCDwryPO7RnLKfxo2bbaVfEyM+gZ8l4DmjqoZc/C2jkEt3NrvMRsH+xfEBF9Cs78/gzcg6tia\n",
       "OWNZPDjBF6vUd/weAVnfXW6yInbiyJpuOcc91OZWr7QyCDCLqV+PalEmYFV6a9QGfQmcoT8fAEHP\n",
       "6BedHfTGl/igyNIMO+rfK9fdoec6gNyaS9Gpx8XKnN8TUxB/1izlrYj1BV7NYPkR3QrKX3Kxg1No\n",
       "Jxnf8nvzdQLP1td1J2f6vKAc57IPai/eg1cPKn+PbR6NlOWULISatymr0OpDPlwXsOMnzr0PM50/\n",
       "qFYZRfWbYojwaBFGHF0OA6i8Vu+bWub86SOQrV5hgFXUEPru+eOPO/Z5t3Dyi5itRIrR435Bo8yL\n",
       "Y8PQRbMtaFCkCHQ4lpRLi7p+fUx2f3Nj12kBsY/tOEQupf2W9rhkcQZpkhsFiYG5Dm5Ci1xFYVWu\n",
       "9tNpCT+sPUHyQQ9Po+sG9W3z9YxnTi9BXTTw6NAKlfea90HROmPNtRndfSO9xwtuFwb5Ik9xTuwh\n",
       "2YImdPBLMQa+y1IYUT3EETX9rfvVkWQYcCySBaUPMVG7rf99tKofVrl5WsFCBe3qW1x0Ha4sNvHa\n",
       "arQRZYAJk9bRgutLD7ejDruEmhs1W77BQ/zFUGVxcj0Ew6iVMcoPU4IKIzI8eSgNxpvlkdKHkr7C\n",
       "GcL3PcEO/y3+Rl7G7JhOzO1Fqg6OW480sInyLlwq0L4ayXf1n/wKETORlrMg8rCMtzzySRmq0zFd\n",
       "TyAC8RcFMqfxDqPuF7BeqpgEOSRHP8Qgdu8N7R6EA1eXANayvimLNvCCkb9k/serlsMMJ9+brg84\n",
       "nvdceZtQG35PF5M8Qu9iOWNNPYKJa9KvsvSBAAADOwGeYmpBLwQvFMOFACMXCO9mUovZoJcn7ws2\n",
       "b0O6pxH06QikH5oZD2xSo7DM5zdOGx3tIvOg47OCnbqOnkV8uo4H/NjR0Nkz1TSPBd0NraMGQYeb\n",
       "s8TYla7Rgl/meVcx8ubhhkvs8Xt16CH3Pgby5RvF42IFhz6CQ9BpGoYLnoa6V7kITac4RaUG8UZD\n",
       "dubK+s2grOAfhl7e9oZ24sohyQ7Lxj61NxeDsrLZK5iWCTSZhVz4Iv9RquagPscE+ygVboZ74vpM\n",
       "B9XiKJi7MVsyMm2K733y1Y9/y7OUgG23PQpy6zJY13cdBbca/55RXu4Jtb7oGc+EOPFcDHb1+XME\n",
       "dikEgddeeveV/Zh4ckXQpEXZnmjtgOZh9Pku347ujuhXzvN+Q1Iw0BQKvlscIt1JKbGTvmpUU7BT\n",
       "soB4W6dr5ObAeKazGYXSU5YelDNyICIONzzDNoEnhKb3P3Ny28Tl08LLEi2Uu+kXVT22/WdG8oJb\n",
       "vGEgSLlTaB/u5nsYbZcrVi8p4jkH93YVOD32uc60wANPosOgOnyOlsQTPwQirIKYHyoPqKs5RTlA\n",
       "Rs37Pv46ttRgsOYGnk+7PHBrlxbz1G7Yb0zJfHPLu2my2O4fHrN/LQLstLE9EIlIPFiml2avcqUq\n",
       "LJYdTRPWPR3MB0OEX4OO9xJ1I7/axhlP8lmrtBinbNcINxwdX7Q/yMdracWg0kbsZUvcVFQrrsAF\n",
       "rdJijnPQqA4Rh2v4DMU0dSe6caaX5ve4l37VLwpsHx7IgGPzMAhKJkMppfvS1WBq55SUMZ4oatOU\n",
       "dZNCPQc5Avu+koClGjyW40F9RS6o4OB4+ahhM1wlovcDFitdA5bya+cm8HTZphTvnUrO6bqH5FBh\n",
       "+DDt7IsbacXpAK33bA2GIuAiBaSKuFmaq7us3jwanFl9fuwN1NJDCpbMxPGZjmy4VmBC4GQNYbA8\n",
       "4dKUGTH+cw8HHD1VXU7BrZRN1o5VnrFpmrYMxCP9Pct5aMSsLJ4WBSBfDYLYjI4ZRzkZk8CfVmek\n",
       "HetI9KTTLhJf6KB5smTi4n7WVdsr1H1014r0yyKskzdPtr4Nj6kuNQJq4d4ThzbEpUszorBYpPLe\n",
       "aIawAAAFYEGaZEuoQhBaIfA1AUEDUBOAIJf//rVEGrFEA8w84z9v7Uhimt2CYAi3+/Yi+I8KM55c\n",
       "4BeGa5vz12s9//NevXvP3pfjuP1WFx3D6U0r9lD22JNu6gECdj1j6pUOzf9rnFda17DQDIBqe//q\n",
       "Wo+kZvXy//gPh8GZ3cphuWe7XTcnl4Jo9BIykNi5RSBAC/tMS0AzYGScNctzLBI0csZpSdZhiu09\n",
       "IMuv/gghtHRNjrj4+tOcFcvXWz+SZ6Y9FDrhEWDNXmu2iLJc+e+HL+im+Vj4rGgad/5D5ZZYUR1C\n",
       "DvbfB0l196LJ9aL0IEU0r4TKLkrnOfpjumKvdFDKukfhoXM+6y4bO0FIi9EUDuA0fFwc+82obZDI\n",
       "8UT0scervAulB3TS4vpMrh43wXC3ZCjun17DlwBLQtGfiw8fYWvM2NAkFz4nmRKiwEntMnMvW4dv\n",
       "29NRD049ul8ZmwRLDSNJbV5As8Xe/ABYYQ8YqCf/1RkKaOk8J0Exryt7rt1IrRZnQ2hzS0A3QOYY\n",
       "r/jR1C9ihkKCnCzgEH4P/pxDNgvz1RFced+VIsb0YHJzJj6/HCK4FU1uIixg2SFYm8NuijO245vW\n",
       "1SnyXPHXZ1wcyP776aCNERZ5mVRvIX5LaVYPnM9xAX0edro/ugFjBqX9jiTQGZoTXDHPLp6z9MCU\n",
       "dCWIZ7RlLCic95ZX02OmxT2BCgSvJlsINbTOizPE/bzA83lXWzYwlLKFAjLKQ8z8UFUgw3+mE0IT\n",
       "2Oo7ZHa+aIRgcWiVH98b2+XKdlJsZgvERePmODJ/4uOfNkHdTduiLHP0Q7SZc+kfJQXQDA8pxP2X\n",
       "e4O/UwVpD54EBk4RyY4o9g3GKf8XRo34qfGl2v+08nCFm0BSJMTu8stHxBXod2im5wDrOX7SdfcR\n",
       "AjTUdtMiRxyA5EJVP8rY7V6Sb7+QMBYbCwKlz9tYfAWpuAKlfS0aHYzV4HczFTQ1wsgRg0edsROv\n",
       "lmno/VfKjyMXr4uiv5zR9K1zIfhFyoy0R5Wi63BZvWcHwoHV7+EQJL8TPu6v8BNxiq1pyTGltkeZ\n",
       "YbUkSj90E2c8VbmSlR+aDz++XsINMiKwQPSN7O1JuxiJcZzKU8evKUyc9TdKZ4YRQCzh6TIY3Vye\n",
       "c/O7FHiLI8B+C7MYEqmtNe1MlI7QRuDMz3oLY4GA4yfVGWcolMa9yioWuDOodZgXH3xwM+5fxZNW\n",
       "s8QoLToutYGck+vhZRvNEqtavfLji/RtMchnSwj1JrDnhNahxJccnXiFBC/Ibt/L+V7mRDq3lhTi\n",
       "3FV7sAUwmYRICKZe7JMnMevc1ueBJyWfARwGCNJrwOO9Qu9KGZ+NEIaM1HRd2GoR1TNPnYQAKC6w\n",
       "3nmAo6AsVo4xP9TKXZe6huvVVOVFLgASJV1hnoGDKLA4yBV3I4+r3SevusUtIbb4h+fOFEz+90PX\n",
       "ZzhBy01Iz79Ky2LLSwtl0dnbiox6LOcvYXft+gRuEdU6V9RMqD3RNrc/W+MHkmCaIfJMj1wu2rQx\n",
       "ZNYkq26f/D+WNAaGYtVo0z1lKO5HXR+PxNAq0tsMm6xk0o5KsRa5U1bitFcckcgAdKXCdq/3LtGb\n",
       "kc6EPgSdFRWW5eOg9ps/puc0DqLBNBIZ9HYYoA6gMxG8LgYzqH1CvF7IFrDmoF/xaeOQM6NR37Yd\n",
       "+GS59JcYUR/nl8/UDrcg++XHuy5k41CuQObzoxp1krCDUet8ESXzPb4K+/HEk5tYJZ40fJgAdyQ0\n",
       "nYT53h5vBkLXOEwIBm2rvu96WB8sve+X/rBX6IUzKzjHNxpOi8apr5J1wNfhFS6C34i7aTCoTlkX\n",
       "26Ku+Qc3ZIPM4z/WoIWTAAADYm1vb3YAAABsbXZoZAAAAAAAAAAAAAAAAAAAA+gAAAnEAAEAAAEA\n",
       "AAAAAAAAAAAAAAABAAAAAAAAAAAAAAAAAAAAAQAAAAAAAAAAAAAAAAAAQAAAAAAAAAAAAAAAAAAA\n",
       "AAAAAAAAAAAAAAAAAAAAAAIAAAKMdHJhawAAAFx0a2hkAAAAAwAAAAAAAAAAAAAAAQAAAAAAAAnE\n",
       "AAAAAAAAAAAAAAAAAAAAAAABAAAAAAAAAAAAAAAAAAAAAQAAAAAAAAAAAAAAAAAAQAAAAACQAAAA\n",
       "kAAAAAAAJGVkdHMAAAAcZWxzdAAAAAAAAAABAAAJxAAAQAAAAQAAAAACBG1kaWEAAAAgbWRoZAAA\n",
       "AAAAAAAAAAAAAAAAQAAAAKAAVcQAAAAAAC1oZGxyAAAAAAAAAAB2aWRlAAAAAAAAAAAAAAAAVmlk\n",
       "ZW9IYW5kbGVyAAAAAa9taW5mAAAAFHZtaGQAAAABAAAAAAAAAAAAAAAkZGluZgAAABxkcmVmAAAA\n",
       "AAAAAAEAAAAMdXJsIAAAAAEAAAFvc3RibAAAALNzdHNkAAAAAAAAAAEAAACjYXZjMQAAAAAAAAAB\n",
       "AAAAAAAAAAAAAAAAAAAAAACQAJAASAAAAEgAAAAAAAAAAQAAAAAAAAAAAAAAAAAAAAAAAAAAAAAA\n",
       "AAAAAAAAAAAAABj//wAAADFhdmNDAWQACv/hABhnZAAKrNlCROhAAAADAEAAAAMBA8SJZYABAAZo\n",
       "6+PLIsAAAAAcdXVpZGtoQPJfJE/FujmlG88DI/MAAAAAAAAAGHN0dHMAAAAAAAAAAQAAAAUAACAA\n",
       "AAAAFHN0c3MAAAAAAAAAAQAAAAEAAAAwY3R0cwAAAAAAAAAEAAAAAQAAQAAAAAABAACAAAAAAAIA\n",
       "ACAAAAAAAQAAQAAAAAAcc3RzYwAAAAAAAAABAAAAAQAAAAUAAAABAAAAKHN0c3oAAAAAAAAAAAAA\n",
       "AAUAAAgBAAAEOAAAA/cAAAM/AAAFZAAAABRzdGNvAAAAAAAAAAEAAAAsAAAAYnVkdGEAAABabWV0\n",
       "YQAAAAAAAAAhaGRscgAAAAAAAAAAbWRpcmFwcGwAAAAAAAAAAAAAAAAtaWxzdAAAACWpdG9vAAAA\n",
       "HWRhdGEAAAABAAAAAExhdmY1Ny44My4xMDA=\n",
       "\">\n",
       "  Your browser does not support the video tag.\n",
       "</video>"
      ],
      "text/plain": [
       "<matplotlib.animation.FuncAnimation at 0x10d448c90>"
      ]
     },
     "execution_count": 10,
     "metadata": {},
     "output_type": "execute_result"
    },
    {
     "data": {
      "image/png": "[encoded data removed]",
      "text/plain": [
       "<matplotlib.figure.Figure at 0x10a1b6950>"
      ]
     },
     "metadata": {},
     "output_type": "display_data"
    }
   ],
   "source": [
    "nn.plot_gif(images[inds], labels[inds])"
   ]
  },
  {
   "cell_type": "code",
   "execution_count": null,
   "metadata": {},
   "outputs": [],
   "source": []
  }
 ],
 "metadata": {
  "kernelspec": {
   "display_name": "Python 2",
   "language": "python",
   "name": "python2"
  },
  "language_info": {
   "codemirror_mode": {
    "name": "ipython",
    "version": 2
   },
   "file_extension": ".py",
   "mimetype": "text/x-python",
   "name": "python",
   "nbconvert_exporter": "python",
   "pygments_lexer": "ipython2",
   "version": "2.7.13"
  }
 },
 "nbformat": 4,
 "nbformat_minor": 2
}
